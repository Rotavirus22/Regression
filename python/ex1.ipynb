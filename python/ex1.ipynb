{
 "cells": [
  {
   "cell_type": "code",
   "execution_count": 15,
   "id": "f2cd5586-87ff-415e-b713-f17bb5edc531",
   "metadata": {},
   "outputs": [],
   "source": [
    "def car():\n",
    "    print(\"This is car\")"
   ]
  },
  {
   "cell_type": "code",
   "execution_count": 17,
   "id": "9a7af6e0-5df3-4034-a009-562ce6d32d30",
   "metadata": {},
   "outputs": [
    {
     "name": "stdout",
     "output_type": "stream",
     "text": [
      "This is car\n"
     ]
    }
   ],
   "source": [
    "car()"
   ]
  },
  {
   "cell_type": "code",
   "execution_count": 19,
   "id": "13be0065-e164-4a95-bf84-06cae8fce47e",
   "metadata": {},
   "outputs": [],
   "source": [
    "def suv(x):\n",
    "    return x + 2"
   ]
  },
  {
   "cell_type": "code",
   "execution_count": 21,
   "id": "c9851b8f-11ae-4d27-8af3-984c414287e0",
   "metadata": {},
   "outputs": [
    {
     "data": {
      "text/plain": [
       "4"
      ]
     },
     "execution_count": 21,
     "metadata": {},
     "output_type": "execute_result"
    }
   ],
   "source": [
    "suv(2)"
   ]
  },
  {
   "cell_type": "code",
   "execution_count": null,
   "id": "79b920ee-51fc-4980-bf13-69be6c6d52eb",
   "metadata": {},
   "outputs": [],
   "source": []
  }
 ],
 "metadata": {
  "kernelspec": {
   "display_name": "Python 3 (ipykernel)",
   "language": "python",
   "name": "python3"
  },
  "language_info": {
   "codemirror_mode": {
    "name": "ipython",
    "version": 3
   },
   "file_extension": ".py",
   "mimetype": "text/x-python",
   "name": "python",
   "nbconvert_exporter": "python",
   "pygments_lexer": "ipython3",
   "version": "3.12.4"
  }
 },
 "nbformat": 4,
 "nbformat_minor": 5
}
