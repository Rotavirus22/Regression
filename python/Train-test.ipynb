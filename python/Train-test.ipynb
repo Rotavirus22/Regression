{
 "cells": [
  {
   "cell_type": "markdown",
   "id": "3960ff9e-46f5-45c8-b18b-b616ddf7e553",
   "metadata": {},
   "source": [
    "## Train Test Split"
   ]
  },
  {
   "cell_type": "markdown",
   "id": "3e173d27-ff43-4e2e-8bb1-4f4f09d0bb0b",
   "metadata": {},
   "source": [
    "## Import the relevant libraries"
   ]
  },
  {
   "cell_type": "code",
   "execution_count": 3,
   "id": "3663985a-6914-4d7d-b8fe-006fc3f4529e",
   "metadata": {},
   "outputs": [],
   "source": [
    "import numpy as np\n",
    "from sklearn.model_selection import train_test_split\n"
   ]
  },
  {
   "cell_type": "markdown",
   "id": "177757f0-e590-47b9-923e-deaca2a210cb",
   "metadata": {},
   "source": [
    "## Generate the data we are going to split"
   ]
  },
  {
   "cell_type": "code",
   "execution_count": 8,
   "id": "b526cbd1-e2a6-4ce8-81e9-17ff6f168c9b",
   "metadata": {},
   "outputs": [
    {
     "data": {
      "text/plain": [
       "array([  1,   2,   3,   4,   5,   6,   7,   8,   9,  10,  11,  12,  13,\n",
       "        14,  15,  16,  17,  18,  19,  20,  21,  22,  23,  24,  25,  26,\n",
       "        27,  28,  29,  30,  31,  32,  33,  34,  35,  36,  37,  38,  39,\n",
       "        40,  41,  42,  43,  44,  45,  46,  47,  48,  49,  50,  51,  52,\n",
       "        53,  54,  55,  56,  57,  58,  59,  60,  61,  62,  63,  64,  65,\n",
       "        66,  67,  68,  69,  70,  71,  72,  73,  74,  75,  76,  77,  78,\n",
       "        79,  80,  81,  82,  83,  84,  85,  86,  87,  88,  89,  90,  91,\n",
       "        92,  93,  94,  95,  96,  97,  98,  99, 100])"
      ]
     },
     "execution_count": 8,
     "metadata": {},
     "output_type": "execute_result"
    }
   ],
   "source": [
    "a = np.arange(1,101)\n",
    "a"
   ]
  },
  {
   "cell_type": "code",
   "execution_count": 10,
   "id": "4ea29866-fb6e-41c8-bff4-3312d7a50973",
   "metadata": {},
   "outputs": [
    {
     "data": {
      "text/plain": [
       "array([501, 502, 503, 504, 505, 506, 507, 508, 509, 510, 511, 512, 513,\n",
       "       514, 515, 516, 517, 518, 519, 520, 521, 522, 523, 524, 525, 526,\n",
       "       527, 528, 529, 530, 531, 532, 533, 534, 535, 536, 537, 538, 539,\n",
       "       540, 541, 542, 543, 544, 545, 546, 547, 548, 549, 550, 551, 552,\n",
       "       553, 554, 555, 556, 557, 558, 559, 560, 561, 562, 563, 564, 565,\n",
       "       566, 567, 568, 569, 570, 571, 572, 573, 574, 575, 576, 577, 578,\n",
       "       579, 580, 581, 582, 583, 584, 585, 586, 587, 588, 589, 590, 591,\n",
       "       592, 593, 594, 595, 596, 597, 598, 599, 600])"
      ]
     },
     "execution_count": 10,
     "metadata": {},
     "output_type": "execute_result"
    }
   ],
   "source": [
    "b = np.arange(501,601)\n",
    "b"
   ]
  },
  {
   "cell_type": "code",
   "execution_count": 12,
   "id": "674523c5-9586-48dc-80db-9059d26eae83",
   "metadata": {},
   "outputs": [
    {
     "data": {
      "text/plain": [
       "[array([54, 62, 55, 20, 87,  4,  8, 13, 58,  2, 85, 34, 61, 47, 96, 12, 30,\n",
       "        32, 69, 25, 79, 19, 89, 16, 51, 38, 40, 21, 98, 31, 23,  6, 84, 88,\n",
       "        52, 90, 45, 91,  3, 10, 57, 65, 81, 66,  1, 97, 43, 67, 33, 37, 68,\n",
       "        83, 64, 27, 44, 39,  9, 35, 24, 59, 50, 72, 94, 46, 74, 73, 99, 28,\n",
       "        78, 93, 80, 60, 77, 41, 75]),\n",
       " array([ 14,   7,  56,   5,  42,  49,  22,  48,  18,  26,  95,  29,  63,\n",
       "         82,  36,  76,  70,  11, 100,  15,  86,  53,  71,  92,  17])]"
      ]
     },
     "execution_count": 12,
     "metadata": {},
     "output_type": "execute_result"
    }
   ],
   "source": [
    "train_test_split(a)"
   ]
  },
  {
   "cell_type": "code",
   "execution_count": 57,
   "id": "3cb090bd-2063-494a-bc3a-d67662a9bafb",
   "metadata": {},
   "outputs": [],
   "source": [
    "a_train, a_test, b_train, b_test = train_test_split(a,b, test_size = 0.2, random_state = 42)"
   ]
  },
  {
   "cell_type": "markdown",
   "id": "bc528e2d-43b4-457c-a168-bccf0882e76b",
   "metadata": {},
   "source": [
    "## Explore the result "
   ]
  },
  {
   "cell_type": "code",
   "execution_count": 59,
   "id": "fce2ce01-bea8-4d3b-97f2-b8563228e583",
   "metadata": {},
   "outputs": [
    {
     "data": {
      "text/plain": [
       "((80,), (20,))"
      ]
     },
     "execution_count": 59,
     "metadata": {},
     "output_type": "execute_result"
    }
   ],
   "source": [
    "a_train.shape, a_test.shape"
   ]
  },
  {
   "cell_type": "code",
   "execution_count": 51,
   "id": "511c39e4-6aed-46fc-9e42-fc8759cfb6dc",
   "metadata": {},
   "outputs": [
    {
     "data": {
      "text/plain": [
       "array([ 48,  84,  67,  73,   9,  78,  10,  68,  26,   3,  88,  24,  60,\n",
       "        87,  17,  42,   6,   8,  49,  97,  12,  82,  85,  77,  16,  33,\n",
       "        64,  66,  62,  20,  58,  36,  11,  50,  63,  95,  32,  98,  57,\n",
       "        13,  65,  74,   2,  96, 100,  83,  44,  37,  52,  19,  43,  53,\n",
       "        70,   1,  99,   7,   4,  61,  14,  34,  47,  90,  80,  56,  93,\n",
       "         5,  38,  86,  79,  18,  28,  29,  31,  75,  25,  71,  72,  23,\n",
       "        69,  89])"
      ]
     },
     "execution_count": 51,
     "metadata": {},
     "output_type": "execute_result"
    }
   ],
   "source": [
    "a_train"
   ]
  },
  {
   "cell_type": "code",
   "execution_count": 53,
   "id": "fe6a7783-fc50-4b2b-988d-73d674a733dc",
   "metadata": {},
   "outputs": [
    {
     "data": {
      "text/plain": [
       "array([27, 55, 40, 92, 35, 91, 54, 81, 21, 94, 41, 59, 51, 15, 30, 39, 76,\n",
       "       22, 45, 46])"
      ]
     },
     "execution_count": 53,
     "metadata": {},
     "output_type": "execute_result"
    }
   ],
   "source": [
    "a_test"
   ]
  },
  {
   "cell_type": "code",
   "execution_count": 61,
   "id": "0eee3baa-0997-4de4-a0ef-309cf11d6db8",
   "metadata": {},
   "outputs": [
    {
     "data": {
      "text/plain": [
       "((80,), (20,))"
      ]
     },
     "execution_count": 61,
     "metadata": {},
     "output_type": "execute_result"
    }
   ],
   "source": [
    "b_train.shape, b_test.shape"
   ]
  },
  {
   "cell_type": "code",
   "execution_count": 63,
   "id": "a655d8dc-488d-4a6d-aa9a-2a5e4c65d6c1",
   "metadata": {},
   "outputs": [
    {
     "data": {
      "text/plain": [
       "array([556, 589, 527, 543, 570, 516, 541, 597, 510, 573, 512, 548, 586,\n",
       "       529, 594, 506, 567, 566, 536, 517, 550, 535, 508, 596, 528, 520,\n",
       "       582, 526, 563, 514, 525, 504, 518, 539, 509, 579, 507, 565, 537,\n",
       "       590, 557, 600, 555, 544, 551, 568, 547, 569, 562, 598, 580, 542,\n",
       "       559, 549, 599, 558, 576, 533, 595, 560, 564, 585, 538, 530, 502,\n",
       "       553, 522, 503, 524, 588, 592, 575, 587, 583, 521, 561, 572, 515,\n",
       "       593, 552])"
      ]
     },
     "execution_count": 63,
     "metadata": {},
     "output_type": "execute_result"
    }
   ],
   "source": [
    "b_train"
   ]
  },
  {
   "cell_type": "code",
   "execution_count": 65,
   "id": "3d0c442b-f26b-42a0-bf2b-22ba3668ff0f",
   "metadata": {},
   "outputs": [
    {
     "data": {
      "text/plain": [
       "array([584, 554, 571, 546, 545, 540, 523, 581, 511, 501, 519, 531, 574,\n",
       "       534, 591, 505, 577, 578, 513, 532])"
      ]
     },
     "execution_count": 65,
     "metadata": {},
     "output_type": "execute_result"
    }
   ],
   "source": [
    "b_test"
   ]
  },
  {
   "cell_type": "code",
   "execution_count": null,
   "id": "4fb8624f-4f35-4248-a548-d5ba7879c678",
   "metadata": {},
   "outputs": [],
   "source": []
  }
 ],
 "metadata": {
  "kernelspec": {
   "display_name": "Python 3 (ipykernel)",
   "language": "python",
   "name": "python3"
  },
  "language_info": {
   "codemirror_mode": {
    "name": "ipython",
    "version": 3
   },
   "file_extension": ".py",
   "mimetype": "text/x-python",
   "name": "python",
   "nbconvert_exporter": "python",
   "pygments_lexer": "ipython3",
   "version": "3.12.4"
  }
 },
 "nbformat": 4,
 "nbformat_minor": 5
}
